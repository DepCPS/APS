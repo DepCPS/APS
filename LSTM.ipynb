{
 "cells": [
  {
   "cell_type": "markdown",
   "metadata": {},
   "source": [
    "## Data Preparation"
   ]
  },
  {
   "cell_type": "code",
   "execution_count": null,
   "metadata": {},
   "outputs": [],
   "source": [
    "import pandas as pd\n",
    "import numpy as np\n",
    "import os\n",
    "from sklearn.model_selection import train_test_split\n",
    "from sklearn.preprocessing import MinMaxScaler\n",
    "\n",
    "# Parameters\n",
    "data_dir = \"data/openAPS_patient\"  # Directory containing patient folders\n",
    "sequence_length = 10  # Number of timesteps in each sequence\n",
    "features = ['rate', 'Carbs', 'IOB']  # Features for the model\n",
    "target = 'CGM_glucose'  # Target column\n",
    "\n",
    "def load_and_prepare_data(data_dir):\n",
    "    all_data = []\n",
    "    \n",
    "    # Load all patient data\n",
    "    for patient_folder in os.listdir(data_dir):\n",
    "        patient_path = os.path.join(data_dir, patient_folder)\n",
    "        if not os.path.isdir(patient_path):  # Skip files like .DS_Store\n",
    "            continue\n",
    "        for file in os.listdir(patient_path):\n",
    "            file_path = os.path.join(patient_path, file)\n",
    "            if not file.endswith(\".csv\"):  # Ensure only CSV files are processed\n",
    "                continue\n",
    "            df = pd.read_csv(file_path)\n",
    "            df['Time'] = pd.to_datetime(df['Time'], format='mixed', errors='coerce') # Ensure datetime format\n",
    "            df = df.sort_values('Time')  # Sort by time\n",
    "\n",
    "            # Replace invalid string entries with NaN\n",
    "            df.replace(' null', np.nan, inplace=True)\n",
    "\n",
    "            # Drop rows with null values\n",
    "            df = df.dropna()\n",
    "\n",
    "            all_data.append(df)\n",
    "    \n",
    "    # Combine all patient data\n",
    "    combined_data = pd.concat(all_data, axis=0)\n",
    "\n",
    "    # Replace invalid string entries with NaN in the combined data\n",
    "    combined_data.replace(' null', np.nan, inplace=True)\n",
    "\n",
    "    # Ensure numeric columns\n",
    "    for col in features + [target]:\n",
    "        combined_data[col] = pd.to_numeric(combined_data[col], errors='coerce')\n",
    "\n",
    "    # Drop rows with NaN\n",
    "    combined_data = combined_data.dropna(subset=features + [target])\n",
    "\n",
    "    # Normalize features\n",
    "    scaler = MinMaxScaler()\n",
    "    combined_data[features + [target]] = scaler.fit_transform(combined_data[features + [target]])\n",
    "    \n",
    "    # Create sequences\n",
    "    X, y = [], []\n",
    "    for i in range(len(combined_data) - sequence_length):\n",
    "        seq_x = combined_data[features].iloc[i:i + sequence_length].values\n",
    "        seq_y = combined_data[target].iloc[i + sequence_length]\n",
    "        X.append(seq_x)\n",
    "        y.append(seq_y)\n",
    "    \n",
    "    return np.array(X), np.array(y), scaler\n",
    "\n",
    "\n",
    "\n",
    "# Load and prepare data\n",
    "X, y, scaler = load_and_prepare_data(data_dir)\n",
    "\n",
    "# Split into train and test sets\n",
    "X_train, X_test, y_train, y_test = train_test_split(X, y, test_size=0.2, random_state=42)\n"
   ]
  },
  {
   "cell_type": "markdown",
   "metadata": {},
   "source": [
    "## LSTM Model Definition"
   ]
  },
  {
   "cell_type": "code",
   "execution_count": null,
   "metadata": {},
   "outputs": [],
   "source": [
    "import tensorflow as tf\n",
    "from tensorflow.keras.models import Sequential\n",
    "from tensorflow.keras.layers import LSTM, Dense, Dropout\n",
    "\n",
    "# Define the LSTM model\n",
    "def build_lstm_model(input_shape):\n",
    "    model = Sequential([\n",
    "        LSTM(64, activation='tanh', input_shape=input_shape, return_sequences=False),\n",
    "        Dropout(0.2),\n",
    "        Dense(32, activation='relu'),\n",
    "        Dense(1)  # Predict one value: CGM_glucose\n",
    "    ])\n",
    "    model.compile(optimizer='adam', loss='mse', metrics=['mae'])\n",
    "    return model\n",
    "\n",
    "# Build the model\n",
    "input_shape = (X_train.shape[1], X_train.shape[2])  # (sequence_length, number_of_features)\n",
    "model = build_lstm_model(input_shape)\n",
    "model.summary()\n"
   ]
  },
  {
   "cell_type": "markdown",
   "metadata": {},
   "source": [
    "## Model Training"
   ]
  },
  {
   "cell_type": "code",
   "execution_count": null,
   "metadata": {},
   "outputs": [],
   "source": [
    "# Train the model\n",
    "history = model.fit(\n",
    "    X_train, y_train,\n",
    "    validation_split=0.2,\n",
    "    epochs=20,\n",
    "    batch_size=32,\n",
    "    verbose=1\n",
    ")"
   ]
  },
  {
   "cell_type": "markdown",
   "metadata": {},
   "source": [
    "## Model Evaluation"
   ]
  },
  {
   "cell_type": "code",
   "execution_count": null,
   "metadata": {},
   "outputs": [],
   "source": [
    "# Evaluate the model\n",
    "loss, mae = model.evaluate(X_test, y_test)\n",
    "print(f\"Test Loss: {loss}, Test MAE: {mae}\")\n",
    "\n",
    "# Predict and inverse transform the results\n",
    "y_pred = model.predict(X_test)\n",
    "y_pred_rescaled = scaler.inverse_transform(np.concatenate((np.zeros((y_pred.shape[0], len(features))), y_pred), axis=1))[:, -1]\n",
    "y_test_rescaled = scaler.inverse_transform(np.concatenate((np.zeros((y_test.shape[0], len(features))), y_test.reshape(-1, 1)), axis=1))[:, -1]\n",
    "\n",
    "# Plot predictions vs actual values\n",
    "import matplotlib.pyplot as plt\n",
    "plt.figure(figsize=(10, 6))\n",
    "plt.plot(y_test_rescaled, label='Actual')\n",
    "plt.plot(y_pred_rescaled, label='Predicted')\n",
    "plt.legend()\n",
    "plt.show()"
   ]
  }
 ],
 "metadata": {
  "language_info": {
   "name": "python"
  }
 },
 "nbformat": 4,
 "nbformat_minor": 2
}
